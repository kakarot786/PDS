{
 "cells": [
  {
   "cell_type": "markdown",
   "id": "45c8e92b-c320-4aa5-9777-09d0fc14e331",
   "metadata": {},
   "source": [
    "### Roll# 2k22/CSE/102\n",
    "### Name Syed Fakhir Hassan Naqvi\n",
    "### \"Numpy\""
   ]
  },
  {
   "cell_type": "markdown",
   "id": "2bbbf6de-5256-439a-9e2e-23314b063859",
   "metadata": {},
   "source": [
    "## - Importing Numpy Library"
   ]
  },
  {
   "cell_type": "code",
   "execution_count": 45,
   "id": "301e5661-8808-4cf2-8d65-39c9a56b56ac",
   "metadata": {},
   "outputs": [],
   "source": [
    "import numpy as np"
   ]
  },
  {
   "cell_type": "markdown",
   "id": "6179816b-033b-4750-a8bf-f6bf2528d8c9",
   "metadata": {},
   "source": [
    "## - Numpy Array Operations"
   ]
  },
  {
   "cell_type": "code",
   "execution_count": 46,
   "id": "de4de5ec-236c-41e4-a5b9-bdbe4d405021",
   "metadata": {},
   "outputs": [],
   "source": [
    "my_arr = np.arange(1000)\n",
    "my_list = np.arange(1000)"
   ]
  },
  {
   "cell_type": "code",
   "execution_count": 47,
   "id": "2a96c048-5084-43aa-810b-3c86c8faba86",
   "metadata": {},
   "outputs": [
    {
     "name": "stdout",
     "output_type": "stream",
     "text": [
      "[2 2 3 4 8 9]\n",
      "int32\n",
      "(6,)\n",
      "1\n"
     ]
    }
   ],
   "source": [
    "data1 = [2,2.5,3,4.7,8.9,9.0]\n",
    "array = np.array(data1,dtype = int)\n",
    "print(array)\n",
    "print(array.dtype)\n",
    "print(array.shape)\n",
    "print(array.ndim)"
   ]
  },
  {
   "cell_type": "code",
   "execution_count": 48,
   "id": "df19ea13-c456-47ba-9447-a991ee8a588d",
   "metadata": {},
   "outputs": [
    {
     "name": "stdout",
     "output_type": "stream",
     "text": [
      "2\n",
      "(2, 6)\n"
     ]
    }
   ],
   "source": [
    "data2 = [[1,3,5,7,9,11],[2,4,6,8,10,12]] # both lists must have same number of elements\n",
    "array2 = np.array(data2, dtype = int)\n",
    "print(array2.ndim)\n",
    "print(array2.shape)"
   ]
  },
  {
   "cell_type": "code",
   "execution_count": 49,
   "id": "7580f0ad-c1d9-4af2-83ae-4dc8e9c9cdba",
   "metadata": {},
   "outputs": [
    {
     "data": {
      "text/plain": [
       "array([[ 1,  3,  5,  7,  9, 11],\n",
       "       [ 2,  4,  6,  8, 10, 12]])"
      ]
     },
     "execution_count": 49,
     "metadata": {},
     "output_type": "execute_result"
    }
   ],
   "source": [
    "array3 = np.array([[1,3,5,7,9,11],[2,4,6,8,10,12]])\n",
    "array3"
   ]
  },
  {
   "cell_type": "code",
   "execution_count": 50,
   "id": "034efadf-e5f0-42a1-95a4-07ca49a3ace7",
   "metadata": {},
   "outputs": [
    {
     "data": {
      "text/plain": [
       "array([[1, 0, 0, 0],\n",
       "       [0, 1, 0, 0],\n",
       "       [0, 0, 1, 0],\n",
       "       [0, 0, 0, 1]])"
      ]
     },
     "execution_count": 50,
     "metadata": {},
     "output_type": "execute_result"
    }
   ],
   "source": [
    "array4 = np.eye(4, dtype = int)\n",
    "array4"
   ]
  },
  {
   "cell_type": "markdown",
   "id": "6f07f59e-4397-46f8-b316-5e2a7e6f9b04",
   "metadata": {},
   "source": [
    "## - Arithmetic Operations"
   ]
  },
  {
   "cell_type": "code",
   "execution_count": 51,
   "id": "5e187346-4b33-4bf5-8455-4eade7eb60fa",
   "metadata": {},
   "outputs": [
    {
     "name": "stdout",
     "output_type": "stream",
     "text": [
      "[[  1   9  25  49  81 121]\n",
      " [  4  16  36  64 100 144]]\n"
     ]
    }
   ],
   "source": [
    "print(array3 * array3)"
   ]
  },
  {
   "cell_type": "code",
   "execution_count": 52,
   "id": "c8ed43a7-5480-44f6-ac57-18cb72a93cc9",
   "metadata": {},
   "outputs": [
    {
     "name": "stdout",
     "output_type": "stream",
     "text": [
      "[[0 0 0 0 0 0]\n",
      " [0 0 0 0 0 0]]\n"
     ]
    }
   ],
   "source": [
    "print(array3 - array3)"
   ]
  },
  {
   "cell_type": "code",
   "execution_count": 53,
   "id": "7629ea12-a36a-40b0-8626-df48a7f75c40",
   "metadata": {},
   "outputs": [
    {
     "name": "stdout",
     "output_type": "stream",
     "text": [
      "[[  1   9  25  49  81 121]\n",
      " [  4  16  36  64 100 144]]\n"
     ]
    }
   ],
   "source": [
    "print(array3 **2)"
   ]
  },
  {
   "cell_type": "code",
   "execution_count": 54,
   "id": "11e8c55e-7733-48ba-a947-6251ade17535",
   "metadata": {},
   "outputs": [
    {
     "name": "stdout",
     "output_type": "stream",
     "text": [
      "[[False  True  True  True  True  True]\n",
      " [False  True  True  True  True  True]]\n"
     ]
    }
   ],
   "source": [
    "print(array3 > array)"
   ]
  },
  {
   "cell_type": "markdown",
   "id": "f65beda8-9b9c-494a-9e21-4a22e33131fc",
   "metadata": {},
   "source": [
    "## Indexing and Slicing"
   ]
  },
  {
   "cell_type": "code",
   "execution_count": 55,
   "id": "811f77bc-99ed-4d88-b2a3-d0fd64c458f8",
   "metadata": {},
   "outputs": [
    {
     "data": {
      "text/plain": [
       "array([ 0,  1,  2,  3,  4,  5,  6,  7,  8,  9, 10, 11, 12, 13, 14])"
      ]
     },
     "execution_count": 55,
     "metadata": {},
     "output_type": "execute_result"
    }
   ],
   "source": [
    "arr = np.arange(15)\n",
    "arr"
   ]
  },
  {
   "cell_type": "code",
   "execution_count": 56,
   "id": "0ac7f270-49c1-4dfa-9587-18b2844d881e",
   "metadata": {},
   "outputs": [
    {
     "data": {
      "text/plain": [
       "5"
      ]
     },
     "execution_count": 56,
     "metadata": {},
     "output_type": "execute_result"
    }
   ],
   "source": [
    "arr[5]"
   ]
  },
  {
   "cell_type": "code",
   "execution_count": 57,
   "id": "661ca43e-c4d8-48ed-b9b1-a1d7fb87f531",
   "metadata": {},
   "outputs": [
    {
     "data": {
      "text/plain": [
       "array([ 5,  6,  7,  8,  9, 10, 11])"
      ]
     },
     "execution_count": 57,
     "metadata": {},
     "output_type": "execute_result"
    }
   ],
   "source": [
    "arr[5:12]"
   ]
  },
  {
   "cell_type": "code",
   "execution_count": 58,
   "id": "630a5228-c309-4a74-b61e-d8a07a23c3a2",
   "metadata": {},
   "outputs": [
    {
     "data": {
      "text/plain": [
       "array([ 0,  1,  2,  3,  4, 15, 15, 15, 15, 15, 15, 15, 12, 13, 14])"
      ]
     },
     "execution_count": 58,
     "metadata": {},
     "output_type": "execute_result"
    }
   ],
   "source": [
    "arr[5:12] = 15\n",
    "arr"
   ]
  },
  {
   "cell_type": "code",
   "execution_count": 59,
   "id": "7e38f4d5-251c-4fa1-8ee1-1ff9f91c5eac",
   "metadata": {},
   "outputs": [
    {
     "data": {
      "text/plain": [
       "array([ 5,  6,  7,  8,  9, 10, 11])"
      ]
     },
     "execution_count": 59,
     "metadata": {},
     "output_type": "execute_result"
    }
   ],
   "source": [
    "arr = np.arange(15)\n",
    "arr_slice = arr[5:12]\n",
    "arr_slice"
   ]
  },
  {
   "cell_type": "code",
   "execution_count": 60,
   "id": "ffb73c86-1961-4013-af7c-41b986be28a2",
   "metadata": {},
   "outputs": [
    {
     "data": {
      "text/plain": [
       "array([   0,    1,    2,    3,    4,    5,    6,    7,    8,    9, 1629,\n",
       "         11,   12,   13,   14])"
      ]
     },
     "execution_count": 60,
     "metadata": {},
     "output_type": "execute_result"
    }
   ],
   "source": [
    "arr_slice[5] = 1629\n",
    "arr"
   ]
  },
  {
   "cell_type": "code",
   "execution_count": 61,
   "id": "8aa5c0dd-fb14-4adb-9145-7f54b226e105",
   "metadata": {},
   "outputs": [
    {
     "data": {
      "text/plain": [
       "array([ 0,  1,  2,  3,  4, 89, 89, 89, 89, 89, 89, 89, 12, 13, 14])"
      ]
     },
     "execution_count": 61,
     "metadata": {},
     "output_type": "execute_result"
    }
   ],
   "source": [
    "arr_slice[:] = 89\n",
    "arr"
   ]
  },
  {
   "cell_type": "markdown",
   "id": "dc560bc1-89e5-402d-9669-a0a2736c6516",
   "metadata": {},
   "source": [
    "## - 2-D Arrays"
   ]
  },
  {
   "cell_type": "code",
   "execution_count": 62,
   "id": "8292d098-eab3-474d-ad4e-c51f0d36782c",
   "metadata": {},
   "outputs": [
    {
     "data": {
      "text/plain": [
       "array([     1,      5,     12,     14,     72, 124000])"
      ]
     },
     "execution_count": 62,
     "metadata": {},
     "output_type": "execute_result"
    }
   ],
   "source": [
    "arr2d = np.array([[1,3,5,7,9,11],[2,4,6,8,10,12],[1,5,12,14,72,124000]])\n",
    "arr2d[2]"
   ]
  },
  {
   "cell_type": "code",
   "execution_count": 63,
   "id": "571ea237-bbd4-4c0a-bde9-dcf7df7ead17",
   "metadata": {},
   "outputs": [
    {
     "data": {
      "text/plain": [
       "8"
      ]
     },
     "execution_count": 63,
     "metadata": {},
     "output_type": "execute_result"
    }
   ],
   "source": [
    "arr2d[1,3]"
   ]
  },
  {
   "cell_type": "markdown",
   "id": "9e4ff5a8-4103-47c2-b1b7-db83ea2cefab",
   "metadata": {},
   "source": [
    "## Activity 3 "
   ]
  },
  {
   "cell_type": "code",
   "execution_count": 64,
   "id": "a16a80bf-9469-4f2f-883e-a4b93d3b86f9",
   "metadata": {},
   "outputs": [
    {
     "name": "stdout",
     "output_type": "stream",
     "text": [
      "11\n",
      "12\n",
      "124000\n"
     ]
    }
   ],
   "source": [
    "for i in range(len(arr2d)):\n",
    "    print(arr2d[i,5])"
   ]
  },
  {
   "cell_type": "code",
   "execution_count": 65,
   "id": "af1192dd-9539-424e-bf7c-d95cd4db94fe",
   "metadata": {},
   "outputs": [
    {
     "name": "stdout",
     "output_type": "stream",
     "text": [
      "12\n",
      "10\n"
     ]
    }
   ],
   "source": [
    "for i in range(-1,-3,-1):\n",
    "    print(arr2d[1,i])"
   ]
  },
  {
   "cell_type": "markdown",
   "id": "03e3b191-8e99-43ef-b38b-2d0ebd7aa854",
   "metadata": {},
   "source": [
    "## Types of Matrices"
   ]
  },
  {
   "cell_type": "markdown",
   "id": "96c7f803-25b4-4608-b322-c9bb5fe06819",
   "metadata": {},
   "source": [
    "## - Singleton Matrix"
   ]
  },
  {
   "cell_type": "code",
   "execution_count": 66,
   "id": "a22e33d0-0e23-4405-a690-be6512826377",
   "metadata": {},
   "outputs": [
    {
     "data": {
      "text/plain": [
       "array([1])"
      ]
     },
     "execution_count": 66,
     "metadata": {},
     "output_type": "execute_result"
    }
   ],
   "source": [
    "arr0 = np.array([1])\n",
    "arr0"
   ]
  },
  {
   "cell_type": "markdown",
   "id": "e1b0becb-4f0f-4503-b3d7-a91a4ba42a9c",
   "metadata": {},
   "source": [
    "## - Null Matrix"
   ]
  },
  {
   "cell_type": "code",
   "execution_count": 67,
   "id": "ce5e6694-5c9f-4113-9c1c-7a6e23ab28b8",
   "metadata": {},
   "outputs": [
    {
     "data": {
      "text/plain": [
       "array([[0., 0., 0.],\n",
       "       [0., 0., 0.],\n",
       "       [0., 0., 0.]])"
      ]
     },
     "execution_count": 67,
     "metadata": {},
     "output_type": "execute_result"
    }
   ],
   "source": [
    "arr1 = np.zeros((3,3))\n",
    "arr1"
   ]
  },
  {
   "cell_type": "markdown",
   "id": "f14e1c53-bf30-4950-a8b0-a209da8e1a38",
   "metadata": {},
   "source": [
    "## - Row Matrix"
   ]
  },
  {
   "cell_type": "code",
   "execution_count": 34,
   "id": "2a2b3bfe-f804-4453-8f9c-53946c3625d8",
   "metadata": {},
   "outputs": [
    {
     "data": {
      "text/plain": [
       "array([1, 2, 3, 4, 5])"
      ]
     },
     "execution_count": 34,
     "metadata": {},
     "output_type": "execute_result"
    }
   ],
   "source": [
    "arr2 = np.array([1,2,3,4,5])\n",
    "arr2"
   ]
  },
  {
   "cell_type": "markdown",
   "id": "6c56f2bf-71dd-48ab-9a8a-0ee0b2bf596c",
   "metadata": {},
   "source": [
    "## - Column Matrix"
   ]
  },
  {
   "cell_type": "code",
   "execution_count": 35,
   "id": "55ca2e13-282c-42df-bbc2-a0d2b3706d9b",
   "metadata": {},
   "outputs": [
    {
     "data": {
      "text/plain": [
       "array([[1],\n",
       "       [2],\n",
       "       [3]])"
      ]
     },
     "execution_count": 35,
     "metadata": {},
     "output_type": "execute_result"
    }
   ],
   "source": [
    "arr3 = np.array([[1],[2],[3]])\n",
    "arr3"
   ]
  },
  {
   "cell_type": "markdown",
   "id": "6a3cd9cd-d339-4669-ba77-b9ef08e82258",
   "metadata": {},
   "source": [
    "## - Diagonal Matrix"
   ]
  },
  {
   "cell_type": "code",
   "execution_count": 36,
   "id": "c822fd5d-a467-43fe-81e1-dc1e4b0204d0",
   "metadata": {},
   "outputs": [
    {
     "data": {
      "text/plain": [
       "array([[8, 0, 0],\n",
       "       [0, 4, 0],\n",
       "       [0, 0, 9]])"
      ]
     },
     "execution_count": 36,
     "metadata": {},
     "output_type": "execute_result"
    }
   ],
   "source": [
    "arr4 = np.array([[8,0,0],[0,4,0],[0,0,9]])\n",
    "arr4"
   ]
  },
  {
   "cell_type": "markdown",
   "id": "5e762838-8ac3-4651-86ea-59b8ca84ad24",
   "metadata": {},
   "source": [
    "## - Scalar Matrix"
   ]
  },
  {
   "cell_type": "code",
   "execution_count": 37,
   "id": "0b6dabcf-bdcb-4202-b2f7-80664324a0f4",
   "metadata": {},
   "outputs": [
    {
     "data": {
      "text/plain": [
       "array([[5, 0, 0],\n",
       "       [0, 5, 0],\n",
       "       [0, 0, 5]])"
      ]
     },
     "execution_count": 37,
     "metadata": {},
     "output_type": "execute_result"
    }
   ],
   "source": [
    "arr5 = np.array([[5,0,0],[0,5,0],[0,0,5]])\n",
    "arr5"
   ]
  },
  {
   "cell_type": "markdown",
   "id": "93c1ad56-a140-41c8-acca-5fe84efb0ef4",
   "metadata": {},
   "source": [
    "## - Identity Matrix"
   ]
  },
  {
   "cell_type": "code",
   "execution_count": 38,
   "id": "113214a0-4f41-4134-85ff-b138246cce94",
   "metadata": {},
   "outputs": [
    {
     "data": {
      "text/plain": [
       "array([[1., 0., 0., 0.],\n",
       "       [0., 1., 0., 0.],\n",
       "       [0., 0., 1., 0.],\n",
       "       [0., 0., 0., 1.]])"
      ]
     },
     "execution_count": 38,
     "metadata": {},
     "output_type": "execute_result"
    }
   ],
   "source": [
    "arr6 = np.eye(4)\n",
    "arr6"
   ]
  },
  {
   "cell_type": "markdown",
   "id": "6b9c6faa-7c8b-4da0-bb4a-7268e1cf4067",
   "metadata": {},
   "source": [
    "## - Upper Triangular Matrix"
   ]
  },
  {
   "cell_type": "code",
   "execution_count": 68,
   "id": "d9f820fd-579f-44ff-a80b-026ec800b7ae",
   "metadata": {},
   "outputs": [
    {
     "data": {
      "text/plain": [
       "array([[8, 5, 6],\n",
       "       [0, 4, 7],\n",
       "       [0, 0, 9]])"
      ]
     },
     "execution_count": 68,
     "metadata": {},
     "output_type": "execute_result"
    }
   ],
   "source": [
    "arr7 = np.array([[8,5,6],[0,4,7],[0,0,9]])\n",
    "arr7"
   ]
  },
  {
   "cell_type": "markdown",
   "id": "d0084dcb-fc92-4484-ada5-740ae95554a0",
   "metadata": {},
   "source": [
    "## - Lower Triangular Matrix"
   ]
  },
  {
   "cell_type": "code",
   "execution_count": 40,
   "id": "e34d9f3f-e0e6-4126-8846-66ba0abe001b",
   "metadata": {},
   "outputs": [
    {
     "data": {
      "text/plain": [
       "array([[8, 0, 0],\n",
       "       [6, 4, 0],\n",
       "       [5, 7, 9]])"
      ]
     },
     "execution_count": 40,
     "metadata": {},
     "output_type": "execute_result"
    }
   ],
   "source": [
    "arr8 = np.array([[8,0,0],[6,4,0],[5,7,9]])\n",
    "arr8"
   ]
  },
  {
   "cell_type": "markdown",
   "id": "60100ba5-16f1-4960-b030-4370320edc91",
   "metadata": {},
   "source": [
    "## - Singular Matrix"
   ]
  },
  {
   "cell_type": "code",
   "execution_count": 69,
   "id": "ef9a7d56-a8ba-46b6-b93a-fcea891d2adb",
   "metadata": {},
   "outputs": [
    {
     "data": {
      "text/plain": [
       "array([[ 3,  6,  9],\n",
       "       [ 6, 12, 18],\n",
       "       [ 2,  4,  6]])"
      ]
     },
     "execution_count": 69,
     "metadata": {},
     "output_type": "execute_result"
    }
   ],
   "source": [
    "arr9 = np.array([[3,6,9],[6,12,18],[2,4,6]])\n",
    "arr9"
   ]
  },
  {
   "cell_type": "markdown",
   "id": "c96b1298-c3af-4e20-9d71-7d8d45b2a965",
   "metadata": {},
   "source": [
    "## - Non-Singular Matrix"
   ]
  },
  {
   "cell_type": "code",
   "execution_count": 70,
   "id": "067291df-96fc-4c32-9151-09ebffb5868e",
   "metadata": {},
   "outputs": [
    {
     "data": {
      "text/plain": [
       "array([[1, 5],\n",
       "       [9, 8]])"
      ]
     },
     "execution_count": 70,
     "metadata": {},
     "output_type": "execute_result"
    }
   ],
   "source": [
    "arr10 = np.array([[1,5],[9,8]])\n",
    "arr10"
   ]
  },
  {
   "cell_type": "markdown",
   "id": "9bcc86d5-2c65-40f0-aa65-aa6377c5bff7",
   "metadata": {},
   "source": [
    "## -Symmetric Matrix"
   ]
  },
  {
   "cell_type": "code",
   "execution_count": 71,
   "id": "31aabec3-6019-40c5-b99b-07da13aa316c",
   "metadata": {},
   "outputs": [
    {
     "data": {
      "text/plain": [
       "array([[2, 1],\n",
       "       [1, 2]])"
      ]
     },
     "execution_count": 71,
     "metadata": {},
     "output_type": "execute_result"
    }
   ],
   "source": [
    "arr11 = np.array([[2,1],[1,2]])\n",
    "arr11"
   ]
  },
  {
   "cell_type": "markdown",
   "id": "071cd6a0-c52f-44cf-a3bd-e422369bfc20",
   "metadata": {},
   "source": [
    "## - Skew-Symmetric Matrix"
   ]
  },
  {
   "cell_type": "code",
   "execution_count": 72,
   "id": "e5f4636e-b485-4925-98e4-6ca38a72feec",
   "metadata": {},
   "outputs": [
    {
     "data": {
      "text/plain": [
       "array([[ 0,  3,  5],\n",
       "       [-3,  0, -2],\n",
       "       [-5,  2,  0]])"
      ]
     },
     "execution_count": 72,
     "metadata": {},
     "output_type": "execute_result"
    }
   ],
   "source": [
    "arr12 = np.array([[0,3,5],[-3,0,-2],[-5,2,0]])\n",
    "arr12"
   ]
  },
  {
   "cell_type": "markdown",
   "id": "f2caa4dd-7c59-4176-9d93-2a95b80ff145",
   "metadata": {},
   "source": [
    "## - Idempotent Matrix"
   ]
  },
  {
   "cell_type": "code",
   "execution_count": 44,
   "id": "52a17e13-3976-431f-a0ea-1ec13c0f7261",
   "metadata": {},
   "outputs": [
    {
     "data": {
      "text/plain": [
       "array([[1, 0],\n",
       "       [0, 0]])"
      ]
     },
     "execution_count": 44,
     "metadata": {},
     "output_type": "execute_result"
    }
   ],
   "source": [
    "arr14 = np.array([[1,0],[0,0]])\n",
    "arr14"
   ]
  }
 ],
 "metadata": {
  "kernelspec": {
   "display_name": "Python 3 (ipykernel)",
   "language": "python",
   "name": "python3"
  },
  "language_info": {
   "codemirror_mode": {
    "name": "ipython",
    "version": 3
   },
   "file_extension": ".py",
   "mimetype": "text/x-python",
   "name": "python",
   "nbconvert_exporter": "python",
   "pygments_lexer": "ipython3",
   "version": "3.12.2"
  }
 },
 "nbformat": 4,
 "nbformat_minor": 5
}

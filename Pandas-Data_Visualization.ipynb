{
 "cells": [
  {
   "cell_type": "markdown",
   "id": "2a87ae10-bcb0-49aa-bc37-63c21615b4e9",
   "metadata": {},
   "source": [
    "### Roll# 2k22/CSE/102\n",
    "### Name Syed Fakhir Hassan Naqvi\n",
    "### \"Pandas and Data Visualization\""
   ]
  },
  {
   "cell_type": "markdown",
   "id": "99c7efd6-a5bb-4b00-a595-382900ea84c4",
   "metadata": {},
   "source": [
    "### - Importing Libraries"
   ]
  },
  {
   "cell_type": "code",
   "execution_count": 1,
   "id": "0e94f81f-fd48-41dd-9baa-8e39c245310b",
   "metadata": {},
   "outputs": [],
   "source": [
    "import pandas as pd\n",
    "import matplotlib.pyplot as plt\n",
    "import numpy as np"
   ]
  },
  {
   "cell_type": "markdown",
   "id": "fd462f30-86f4-41df-906f-48e3a3a20c4e",
   "metadata": {},
   "source": [
    "### - Reading CSV File"
   ]
  },
  {
   "cell_type": "code",
   "execution_count": 57,
   "id": "1b1ed712-02d8-497f-a222-481c7727fef5",
   "metadata": {
    "scrolled": true
   },
   "outputs": [
    {
     "data": {
      "text/html": [
       "<div>\n",
       "<style scoped>\n",
       "    .dataframe tbody tr th:only-of-type {\n",
       "        vertical-align: middle;\n",
       "    }\n",
       "\n",
       "    .dataframe tbody tr th {\n",
       "        vertical-align: top;\n",
       "    }\n",
       "\n",
       "    .dataframe thead th {\n",
       "        text-align: right;\n",
       "    }\n",
       "</style>\n",
       "<table border=\"1\" class=\"dataframe\">\n",
       "  <thead>\n",
       "    <tr style=\"text-align: right;\">\n",
       "      <th></th>\n",
       "      <th>brand</th>\n",
       "      <th>Price</th>\n",
       "    </tr>\n",
       "  </thead>\n",
       "  <tbody>\n",
       "    <tr>\n",
       "      <th>0</th>\n",
       "      <td>acer</td>\n",
       "      <td>483.08</td>\n",
       "    </tr>\n",
       "    <tr>\n",
       "      <th>1</th>\n",
       "      <td>acer</td>\n",
       "      <td>942.12</td>\n",
       "    </tr>\n",
       "    <tr>\n",
       "      <th>2</th>\n",
       "      <td>acer</td>\n",
       "      <td>567.64</td>\n",
       "    </tr>\n",
       "    <tr>\n",
       "      <th>3</th>\n",
       "      <td>acer</td>\n",
       "      <td>422.68</td>\n",
       "    </tr>\n",
       "    <tr>\n",
       "      <th>4</th>\n",
       "      <td>acer</td>\n",
       "      <td>398.52</td>\n",
       "    </tr>\n",
       "  </tbody>\n",
       "</table>\n",
       "</div>"
      ],
      "text/plain": [
       "  brand   Price\n",
       "0  acer  483.08\n",
       "1  acer  942.12\n",
       "2  acer  567.64\n",
       "3  acer  422.68\n",
       "4  acer  398.52"
      ]
     },
     "execution_count": 57,
     "metadata": {},
     "output_type": "execute_result"
    }
   ],
   "source": [
    "df = pd.read_csv(\"laptops1.csv\")\n",
    "df.head()"
   ]
  },
  {
   "cell_type": "markdown",
   "id": "43c9f2f3-6370-412f-919e-848a33d4e3ca",
   "metadata": {},
   "source": [
    "### - Performing Pandas Tasks"
   ]
  },
  {
   "cell_type": "code",
   "execution_count": 33,
   "id": "b5f7a65d-09bc-4b00-bad2-f998aa4ff5d7",
   "metadata": {},
   "outputs": [
    {
     "data": {
      "text/plain": [
       "(991, 2)"
      ]
     },
     "execution_count": 33,
     "metadata": {},
     "output_type": "execute_result"
    }
   ],
   "source": [
    "df.shape"
   ]
  },
  {
   "cell_type": "code",
   "execution_count": 34,
   "id": "d3d1d72f-469e-4bda-bf88-ddc9a027bd58",
   "metadata": {},
   "outputs": [
    {
     "data": {
      "text/plain": [
       "brand     object\n",
       "Price    float64\n",
       "dtype: object"
      ]
     },
     "execution_count": 34,
     "metadata": {},
     "output_type": "execute_result"
    }
   ],
   "source": [
    "df.dtypes"
   ]
  },
  {
   "cell_type": "code",
   "execution_count": 35,
   "id": "4a8e0195-f990-4f2b-9711-9f4d6ceb7638",
   "metadata": {},
   "outputs": [
    {
     "data": {
      "text/plain": [
       "Index(['brand', 'Price'], dtype='object')"
      ]
     },
     "execution_count": 35,
     "metadata": {},
     "output_type": "execute_result"
    }
   ],
   "source": [
    "df.columns"
   ]
  },
  {
   "cell_type": "code",
   "execution_count": 36,
   "id": "67f56415-f987-4770-bd80-14f010e12acb",
   "metadata": {},
   "outputs": [
    {
     "data": {
      "text/plain": [
       "RangeIndex(start=0, stop=991, step=1)"
      ]
     },
     "execution_count": 36,
     "metadata": {},
     "output_type": "execute_result"
    }
   ],
   "source": [
    "df.index"
   ]
  },
  {
   "cell_type": "code",
   "execution_count": 37,
   "id": "12b23cea-bbc0-435e-a5bb-a677694deb9a",
   "metadata": {},
   "outputs": [
    {
     "data": {
      "text/html": [
       "<div>\n",
       "<style scoped>\n",
       "    .dataframe tbody tr th:only-of-type {\n",
       "        vertical-align: middle;\n",
       "    }\n",
       "\n",
       "    .dataframe tbody tr th {\n",
       "        vertical-align: top;\n",
       "    }\n",
       "\n",
       "    .dataframe thead th {\n",
       "        text-align: right;\n",
       "    }\n",
       "</style>\n",
       "<table border=\"1\" class=\"dataframe\">\n",
       "  <thead>\n",
       "    <tr style=\"text-align: right;\">\n",
       "      <th></th>\n",
       "      <th>brand</th>\n",
       "      <th>Price</th>\n",
       "    </tr>\n",
       "  </thead>\n",
       "  <tbody>\n",
       "    <tr>\n",
       "      <th>0</th>\n",
       "      <td>acer</td>\n",
       "      <td>483.08</td>\n",
       "    </tr>\n",
       "    <tr>\n",
       "      <th>1</th>\n",
       "      <td>acer</td>\n",
       "      <td>942.12</td>\n",
       "    </tr>\n",
       "    <tr>\n",
       "      <th>2</th>\n",
       "      <td>acer</td>\n",
       "      <td>567.64</td>\n",
       "    </tr>\n",
       "    <tr>\n",
       "      <th>3</th>\n",
       "      <td>acer</td>\n",
       "      <td>422.68</td>\n",
       "    </tr>\n",
       "    <tr>\n",
       "      <th>4</th>\n",
       "      <td>acer</td>\n",
       "      <td>398.52</td>\n",
       "    </tr>\n",
       "    <tr>\n",
       "      <th>...</th>\n",
       "      <td>...</td>\n",
       "      <td>...</td>\n",
       "    </tr>\n",
       "    <tr>\n",
       "      <th>986</th>\n",
       "      <td>zebronics</td>\n",
       "      <td>640.12</td>\n",
       "    </tr>\n",
       "    <tr>\n",
       "      <th>987</th>\n",
       "      <td>zebronics</td>\n",
       "      <td>362.28</td>\n",
       "    </tr>\n",
       "    <tr>\n",
       "      <th>988</th>\n",
       "      <td>zebronics</td>\n",
       "      <td>483.08</td>\n",
       "    </tr>\n",
       "    <tr>\n",
       "      <th>989</th>\n",
       "      <td>zebronics</td>\n",
       "      <td>398.52</td>\n",
       "    </tr>\n",
       "    <tr>\n",
       "      <th>990</th>\n",
       "      <td>zebronics</td>\n",
       "      <td>615.96</td>\n",
       "    </tr>\n",
       "  </tbody>\n",
       "</table>\n",
       "<p>991 rows × 2 columns</p>\n",
       "</div>"
      ],
      "text/plain": [
       "         brand   Price\n",
       "0         acer  483.08\n",
       "1         acer  942.12\n",
       "2         acer  567.64\n",
       "3         acer  422.68\n",
       "4         acer  398.52\n",
       "..         ...     ...\n",
       "986  zebronics  640.12\n",
       "987  zebronics  362.28\n",
       "988  zebronics  483.08\n",
       "989  zebronics  398.52\n",
       "990  zebronics  615.96\n",
       "\n",
       "[991 rows x 2 columns]"
      ]
     },
     "execution_count": 37,
     "metadata": {},
     "output_type": "execute_result"
    }
   ],
   "source": [
    "df[[\"brand\",\"Price\"]]"
   ]
  },
  {
   "cell_type": "code",
   "execution_count": 38,
   "id": "89f6d05c-bb13-4f74-a2c9-11fb044094f6",
   "metadata": {},
   "outputs": [
    {
     "data": {
      "text/plain": [
       "933.3801109989909"
      ]
     },
     "execution_count": 38,
     "metadata": {},
     "output_type": "execute_result"
    }
   ],
   "source": [
    "df.Price.mean()"
   ]
  },
  {
   "cell_type": "code",
   "execution_count": 39,
   "id": "5dee32c0-96e3-47fe-ba8d-0265fadfb66b",
   "metadata": {},
   "outputs": [
    {
     "data": {
      "text/plain": [
       "5490.24"
      ]
     },
     "execution_count": 39,
     "metadata": {},
     "output_type": "execute_result"
    }
   ],
   "source": [
    "df.Price.max()"
   ]
  },
  {
   "cell_type": "code",
   "execution_count": 40,
   "id": "819f817a-d9ce-4b5f-93b2-3db34fab2aad",
   "metadata": {},
   "outputs": [
    {
     "data": {
      "text/html": [
       "<div>\n",
       "<style scoped>\n",
       "    .dataframe tbody tr th:only-of-type {\n",
       "        vertical-align: middle;\n",
       "    }\n",
       "\n",
       "    .dataframe tbody tr th {\n",
       "        vertical-align: top;\n",
       "    }\n",
       "\n",
       "    .dataframe thead th {\n",
       "        text-align: right;\n",
       "    }\n",
       "</style>\n",
       "<table border=\"1\" class=\"dataframe\">\n",
       "  <thead>\n",
       "    <tr style=\"text-align: right;\">\n",
       "      <th></th>\n",
       "      <th>Price</th>\n",
       "    </tr>\n",
       "  </thead>\n",
       "  <tbody>\n",
       "    <tr>\n",
       "      <th>count</th>\n",
       "      <td>991.000000</td>\n",
       "    </tr>\n",
       "    <tr>\n",
       "      <th>mean</th>\n",
       "      <td>933.380111</td>\n",
       "    </tr>\n",
       "    <tr>\n",
       "      <th>std</th>\n",
       "      <td>693.209637</td>\n",
       "    </tr>\n",
       "    <tr>\n",
       "      <th>min</th>\n",
       "      <td>118.380000</td>\n",
       "    </tr>\n",
       "    <tr>\n",
       "      <th>25%</th>\n",
       "      <td>526.630000</td>\n",
       "    </tr>\n",
       "    <tr>\n",
       "      <th>50%</th>\n",
       "      <td>747.750000</td>\n",
       "    </tr>\n",
       "    <tr>\n",
       "      <th>75%</th>\n",
       "      <td>1078.080000</td>\n",
       "    </tr>\n",
       "    <tr>\n",
       "      <th>max</th>\n",
       "      <td>5490.240000</td>\n",
       "    </tr>\n",
       "  </tbody>\n",
       "</table>\n",
       "</div>"
      ],
      "text/plain": [
       "             Price\n",
       "count   991.000000\n",
       "mean    933.380111\n",
       "std     693.209637\n",
       "min     118.380000\n",
       "25%     526.630000\n",
       "50%     747.750000\n",
       "75%    1078.080000\n",
       "max    5490.240000"
      ]
     },
     "execution_count": 40,
     "metadata": {},
     "output_type": "execute_result"
    }
   ],
   "source": [
    "df.describe()"
   ]
  },
  {
   "cell_type": "code",
   "execution_count": 41,
   "id": "6f11ed43-a79c-49fb-9703-03ba2f5026af",
   "metadata": {},
   "outputs": [
    {
     "data": {
      "text/plain": [
       "brand\n",
       "asus         210\n",
       "hp           205\n",
       "lenovo       201\n",
       "dell         106\n",
       "msi           90\n",
       "acer          89\n",
       "apple         15\n",
       "infinix       13\n",
       "samsung        7\n",
       "lg             7\n",
       "zebronics      7\n",
       "ultimus        6\n",
       "fujitsu        5\n",
       "avita          5\n",
       "chuwi          4\n",
       "wings          4\n",
       "honor          2\n",
       "gigabyte       2\n",
       "microsoft      2\n",
       "axl            2\n",
       "primebook      2\n",
       "realme         2\n",
       "tecno          2\n",
       "iball          1\n",
       "walker         1\n",
       "jio            1\n",
       "Name: count, dtype: int64"
      ]
     },
     "execution_count": 41,
     "metadata": {},
     "output_type": "execute_result"
    }
   ],
   "source": [
    "df[\"brand\"].value_counts()"
   ]
  },
  {
   "cell_type": "code",
   "execution_count": 42,
   "id": "e72165dd-9636-4a04-a4e5-d3e3402a7fa1",
   "metadata": {},
   "outputs": [
    {
     "data": {
      "text/plain": [
       "array(['acer', 'apple', 'asus', 'avita', 'axl', 'chuwi', 'dell',\n",
       "       'fujitsu', 'gigabyte', 'honor', 'hp', 'iball', 'infinix', 'jio',\n",
       "       'lenovo', 'lg', 'microsoft', 'msi', 'primebook', 'realme',\n",
       "       'samsung', 'tecno', 'ultimus', 'walker', 'wings', 'zebronics'],\n",
       "      dtype=object)"
      ]
     },
     "execution_count": 42,
     "metadata": {},
     "output_type": "execute_result"
    }
   ],
   "source": [
    "df[\"brand\"].unique()"
   ]
  },
  {
   "cell_type": "code",
   "execution_count": 43,
   "id": "de3ab1d4-71e5-4b80-bf62-9ab8b290ab17",
   "metadata": {},
   "outputs": [
    {
     "data": {
      "text/plain": [
       "brand    0\n",
       "Price    0\n",
       "dtype: int64"
      ]
     },
     "execution_count": 43,
     "metadata": {},
     "output_type": "execute_result"
    }
   ],
   "source": [
    "df.isnull().sum()"
   ]
  },
  {
   "cell_type": "code",
   "execution_count": 44,
   "id": "12b55457-02d6-4e30-9f4b-c5394ca1d616",
   "metadata": {},
   "outputs": [],
   "source": [
    "list = [\"Acer\",\"Apple\",\"Asus\",\"Dell\",\"Hp\",\"Lenovo\",\"MSI\",\"Samsung\"]"
   ]
  },
  {
   "cell_type": "markdown",
   "id": "d38da96e-c5a0-4f67-a024-756fa237c554",
   "metadata": {},
   "source": [
    "### - Creating New DataFrames For Models"
   ]
  },
  {
   "cell_type": "code",
   "execution_count": 45,
   "id": "fabf4eb1-1568-4ef0-80a8-1dc3c3cdf55e",
   "metadata": {},
   "outputs": [],
   "source": [
    "acer = df[df[\"brand\"] == \"acer\"]\n",
    "dell = df[df[\"brand\"] == \"dell\"]\n",
    "apple = df[df[\"brand\"] == \"apple\"]\n",
    "lenovo = df[df[\"brand\"] == \"lenovo\"]\n",
    "asus = df[df[\"brand\"] == \"asus\"]\n",
    "hp = df[df[\"brand\"] == \"hp\"]\n",
    "msi = df[df[\"brand\"] == \"msi\"]\n",
    "samsung = df[df[\"brand\"] == \"samsung\"]"
   ]
  },
  {
   "cell_type": "markdown",
   "id": "6d0efd50-5b2f-4387-a3e4-dfa0ad0d005e",
   "metadata": {},
   "source": [
    "### - Deleting The Brand Column"
   ]
  },
  {
   "cell_type": "code",
   "execution_count": 46,
   "id": "87705971-1ff1-477c-ba74-b599c2cc8317",
   "metadata": {},
   "outputs": [],
   "source": [
    "del acer[\"brand\"]\n",
    "del apple[\"brand\"]\n",
    "del asus[\"brand\"]\n",
    "del dell[\"brand\"]\n",
    "del hp[\"brand\"]\n",
    "del lenovo[\"brand\"]\n",
    "del msi[\"brand\"]\n",
    "del samsung[\"brand\"]"
   ]
  },
  {
   "cell_type": "markdown",
   "id": "68611ff2-3014-4c55-a783-c5898d7cc6b1",
   "metadata": {},
   "source": [
    "### - Renaming Column Names"
   ]
  },
  {
   "cell_type": "code",
   "execution_count": 47,
   "id": "de45b052-0e19-4730-8be0-96fbbdb6c74a",
   "metadata": {},
   "outputs": [],
   "source": [
    "acer.columns = [\"acer\"]\n",
    "apple.columns = [\"apple\"]\n",
    "asus.columns = [\"asus\"]\n",
    "dell.columns = [\"dell\"]\n",
    "hp.columns = [\"hp\"]\n",
    "lenovo.columns = [\"lenovo\"]\n",
    "msi.columns = [\"msi\"]\n",
    "samsung.columns = [\"samsung\"]"
   ]
  },
  {
   "cell_type": "code",
   "execution_count": 48,
   "id": "c873ffee-128c-4778-a29c-8c0fa6d6e491",
   "metadata": {},
   "outputs": [],
   "source": [
    "acer.reset_index(drop = False, inplace = True)\n",
    "apple.reset_index(drop = False, inplace = True)\n",
    "asus.reset_index(drop = False, inplace = True)\n",
    "dell.reset_index(drop = False, inplace = True)\n",
    "hp.reset_index(drop = False, inplace = True)\n",
    "lenovo.reset_index(drop = False, inplace = True)\n",
    "msi.reset_index(drop = False, inplace = True)\n",
    "samsung.reset_index(drop = False, inplace = True)"
   ]
  },
  {
   "cell_type": "markdown",
   "id": "33ac7f22-86ef-46dc-8a9b-3dc946b0edd7",
   "metadata": {},
   "source": [
    "### - Concatenating All Model Dataframes Into 1"
   ]
  },
  {
   "cell_type": "code",
   "execution_count": 49,
   "id": "7370f2f4-14f3-48de-82bb-45d42c702172",
   "metadata": {
    "scrolled": true
   },
   "outputs": [
    {
     "name": "stdout",
     "output_type": "stream",
     "text": [
      "Acer       float64\n",
      "Apple      float64\n",
      "Asus       float64\n",
      "Dell       float64\n",
      "Hp         float64\n",
      "Lenovo     float64\n",
      "MSI        float64\n",
      "Samsung    float64\n",
      "dtype: object\n"
     ]
    },
    {
     "data": {
      "text/plain": [
       "Acer       121\n",
       "Apple      195\n",
       "Asus         0\n",
       "Dell       104\n",
       "Hp           5\n",
       "Lenovo       9\n",
       "MSI        120\n",
       "Samsung    203\n",
       "dtype: int64"
      ]
     },
     "execution_count": 49,
     "metadata": {},
     "output_type": "execute_result"
    }
   ],
   "source": [
    "laptops = pd.concat([acer,apple,asus,dell,hp,lenovo,msi,samsung],axis = 1, ignore_index = True)\n",
    "laptops.drop([0,2,4,6,8,10,12,14], axis = 1,inplace = True)\n",
    "laptops.columns = list\n",
    "print(laptops.dtypes)\n",
    "laptops.isnull().sum()"
   ]
  },
  {
   "cell_type": "code",
   "execution_count": 50,
   "id": "1a4a1db2-b7b5-4f88-b246-214cec349b0a",
   "metadata": {},
   "outputs": [
    {
     "data": {
      "text/plain": [
       "Acer       float64\n",
       "Apple      float64\n",
       "Asus       float64\n",
       "Dell       float64\n",
       "Hp         float64\n",
       "Lenovo     float64\n",
       "MSI        float64\n",
       "Samsung    float64\n",
       "dtype: object"
      ]
     },
     "execution_count": 50,
     "metadata": {},
     "output_type": "execute_result"
    }
   ],
   "source": [
    "laptops = laptops.apply(pd.to_numeric, errors = \"coerce\")\n",
    "laptops.dtypes"
   ]
  },
  {
   "cell_type": "code",
   "execution_count": 51,
   "id": "49789ab2-a779-4841-bcd6-8a6ee2e639fb",
   "metadata": {},
   "outputs": [
    {
     "data": {
      "text/plain": [
       "Acer       289.80\n",
       "Apple      857.56\n",
       "Asus       181.08\n",
       "Dell       398.52\n",
       "Hp         233.13\n",
       "Lenovo     265.64\n",
       "MSI        434.28\n",
       "Samsung    543.48\n",
       "dtype: float64"
      ]
     },
     "execution_count": 51,
     "metadata": {},
     "output_type": "execute_result"
    }
   ],
   "source": [
    "laptops.min()"
   ]
  },
  {
   "cell_type": "code",
   "execution_count": 52,
   "id": "e2c0e5b2-f8e3-4be6-a32c-117bf4a7e494",
   "metadata": {},
   "outputs": [
    {
     "data": {
      "text/plain": [
       "Acer       3019.88\n",
       "Apple      4830.79\n",
       "Asus       3382.28\n",
       "Dell       5490.24\n",
       "Hp         4137.40\n",
       "Lenovo     4337.87\n",
       "MSI        5435.88\n",
       "Samsung    1413.24\n",
       "dtype: float64"
      ]
     },
     "execution_count": 52,
     "metadata": {},
     "output_type": "execute_result"
    }
   ],
   "source": [
    "laptops.max()"
   ]
  },
  {
   "cell_type": "code",
   "execution_count": 53,
   "id": "c9fa9418-35a6-41c5-86e7-642e5dacb0cd",
   "metadata": {},
   "outputs": [
    {
     "data": {
      "text/html": [
       "<div>\n",
       "<style scoped>\n",
       "    .dataframe tbody tr th:only-of-type {\n",
       "        vertical-align: middle;\n",
       "    }\n",
       "\n",
       "    .dataframe tbody tr th {\n",
       "        vertical-align: top;\n",
       "    }\n",
       "\n",
       "    .dataframe thead th {\n",
       "        text-align: right;\n",
       "    }\n",
       "</style>\n",
       "<table border=\"1\" class=\"dataframe\">\n",
       "  <thead>\n",
       "    <tr style=\"text-align: right;\">\n",
       "      <th></th>\n",
       "      <th>Acer</th>\n",
       "      <th>Apple</th>\n",
       "      <th>Asus</th>\n",
       "      <th>Dell</th>\n",
       "      <th>Hp</th>\n",
       "      <th>Lenovo</th>\n",
       "      <th>MSI</th>\n",
       "      <th>Samsung</th>\n",
       "    </tr>\n",
       "  </thead>\n",
       "  <tbody>\n",
       "    <tr>\n",
       "      <th>count</th>\n",
       "      <td>89.000000</td>\n",
       "      <td>15.000000</td>\n",
       "      <td>210.000000</td>\n",
       "      <td>106.000000</td>\n",
       "      <td>205.000000</td>\n",
       "      <td>201.000000</td>\n",
       "      <td>90.000000</td>\n",
       "      <td>7.000000</td>\n",
       "    </tr>\n",
       "    <tr>\n",
       "      <th>mean</th>\n",
       "      <td>759.203146</td>\n",
       "      <td>2342.013333</td>\n",
       "      <td>945.746333</td>\n",
       "      <td>1228.550094</td>\n",
       "      <td>918.148488</td>\n",
       "      <td>791.574179</td>\n",
       "      <td>1138.666889</td>\n",
       "      <td>821.320000</td>\n",
       "    </tr>\n",
       "    <tr>\n",
       "      <th>std</th>\n",
       "      <td>513.276593</td>\n",
       "      <td>1150.927521</td>\n",
       "      <td>537.768887</td>\n",
       "      <td>1058.551789</td>\n",
       "      <td>590.816730</td>\n",
       "      <td>515.229615</td>\n",
       "      <td>827.064635</td>\n",
       "      <td>294.910384</td>\n",
       "    </tr>\n",
       "    <tr>\n",
       "      <th>min</th>\n",
       "      <td>289.800000</td>\n",
       "      <td>857.560000</td>\n",
       "      <td>181.080000</td>\n",
       "      <td>398.520000</td>\n",
       "      <td>233.130000</td>\n",
       "      <td>265.640000</td>\n",
       "      <td>434.280000</td>\n",
       "      <td>543.480000</td>\n",
       "    </tr>\n",
       "    <tr>\n",
       "      <th>25%</th>\n",
       "      <td>446.840000</td>\n",
       "      <td>1528.000000</td>\n",
       "      <td>599.350000</td>\n",
       "      <td>615.960000</td>\n",
       "      <td>543.480000</td>\n",
       "      <td>495.160000</td>\n",
       "      <td>664.280000</td>\n",
       "      <td>622.000000</td>\n",
       "    </tr>\n",
       "    <tr>\n",
       "      <th>50%</th>\n",
       "      <td>567.640000</td>\n",
       "      <td>2052.390000</td>\n",
       "      <td>843.660000</td>\n",
       "      <td>839.495000</td>\n",
       "      <td>736.870000</td>\n",
       "      <td>664.280000</td>\n",
       "      <td>863.600000</td>\n",
       "      <td>785.080000</td>\n",
       "    </tr>\n",
       "    <tr>\n",
       "      <th>75%</th>\n",
       "      <td>833.510000</td>\n",
       "      <td>2958.390000</td>\n",
       "      <td>1120.300000</td>\n",
       "      <td>1200.240000</td>\n",
       "      <td>1095.520000</td>\n",
       "      <td>881.720000</td>\n",
       "      <td>1165.600000</td>\n",
       "      <td>881.720000</td>\n",
       "    </tr>\n",
       "    <tr>\n",
       "      <th>max</th>\n",
       "      <td>3019.880000</td>\n",
       "      <td>4830.790000</td>\n",
       "      <td>3382.280000</td>\n",
       "      <td>5490.240000</td>\n",
       "      <td>4137.400000</td>\n",
       "      <td>4337.870000</td>\n",
       "      <td>5435.880000</td>\n",
       "      <td>1413.240000</td>\n",
       "    </tr>\n",
       "  </tbody>\n",
       "</table>\n",
       "</div>"
      ],
      "text/plain": [
       "              Acer        Apple         Asus         Dell           Hp  \\\n",
       "count    89.000000    15.000000   210.000000   106.000000   205.000000   \n",
       "mean    759.203146  2342.013333   945.746333  1228.550094   918.148488   \n",
       "std     513.276593  1150.927521   537.768887  1058.551789   590.816730   \n",
       "min     289.800000   857.560000   181.080000   398.520000   233.130000   \n",
       "25%     446.840000  1528.000000   599.350000   615.960000   543.480000   \n",
       "50%     567.640000  2052.390000   843.660000   839.495000   736.870000   \n",
       "75%     833.510000  2958.390000  1120.300000  1200.240000  1095.520000   \n",
       "max    3019.880000  4830.790000  3382.280000  5490.240000  4137.400000   \n",
       "\n",
       "            Lenovo          MSI      Samsung  \n",
       "count   201.000000    90.000000     7.000000  \n",
       "mean    791.574179  1138.666889   821.320000  \n",
       "std     515.229615   827.064635   294.910384  \n",
       "min     265.640000   434.280000   543.480000  \n",
       "25%     495.160000   664.280000   622.000000  \n",
       "50%     664.280000   863.600000   785.080000  \n",
       "75%     881.720000  1165.600000   881.720000  \n",
       "max    4337.870000  5435.880000  1413.240000  "
      ]
     },
     "execution_count": 53,
     "metadata": {},
     "output_type": "execute_result"
    }
   ],
   "source": [
    "laptops_data = laptops.describe()\n",
    "laptops_data"
   ]
  },
  {
   "cell_type": "markdown",
   "id": "ae6a6c6b-11ce-4b34-ab1f-3cbc959bf950",
   "metadata": {},
   "source": [
    "### - Dropping Useless Rows"
   ]
  },
  {
   "cell_type": "code",
   "execution_count": 54,
   "id": "7ca5509a-08e8-4bf5-90ae-db381c48ed7c",
   "metadata": {},
   "outputs": [
    {
     "data": {
      "text/html": [
       "<div>\n",
       "<style scoped>\n",
       "    .dataframe tbody tr th:only-of-type {\n",
       "        vertical-align: middle;\n",
       "    }\n",
       "\n",
       "    .dataframe tbody tr th {\n",
       "        vertical-align: top;\n",
       "    }\n",
       "\n",
       "    .dataframe thead th {\n",
       "        text-align: right;\n",
       "    }\n",
       "</style>\n",
       "<table border=\"1\" class=\"dataframe\">\n",
       "  <thead>\n",
       "    <tr style=\"text-align: right;\">\n",
       "      <th></th>\n",
       "      <th>Acer</th>\n",
       "      <th>Apple</th>\n",
       "      <th>Asus</th>\n",
       "      <th>Dell</th>\n",
       "      <th>Hp</th>\n",
       "      <th>Lenovo</th>\n",
       "      <th>MSI</th>\n",
       "      <th>Samsung</th>\n",
       "    </tr>\n",
       "  </thead>\n",
       "  <tbody>\n",
       "    <tr>\n",
       "      <th>mean</th>\n",
       "      <td>759.203146</td>\n",
       "      <td>2342.013333</td>\n",
       "      <td>945.746333</td>\n",
       "      <td>1228.550094</td>\n",
       "      <td>918.148488</td>\n",
       "      <td>791.574179</td>\n",
       "      <td>1138.666889</td>\n",
       "      <td>821.32</td>\n",
       "    </tr>\n",
       "    <tr>\n",
       "      <th>min</th>\n",
       "      <td>289.800000</td>\n",
       "      <td>857.560000</td>\n",
       "      <td>181.080000</td>\n",
       "      <td>398.520000</td>\n",
       "      <td>233.130000</td>\n",
       "      <td>265.640000</td>\n",
       "      <td>434.280000</td>\n",
       "      <td>543.48</td>\n",
       "    </tr>\n",
       "    <tr>\n",
       "      <th>max</th>\n",
       "      <td>3019.880000</td>\n",
       "      <td>4830.790000</td>\n",
       "      <td>3382.280000</td>\n",
       "      <td>5490.240000</td>\n",
       "      <td>4137.400000</td>\n",
       "      <td>4337.870000</td>\n",
       "      <td>5435.880000</td>\n",
       "      <td>1413.24</td>\n",
       "    </tr>\n",
       "  </tbody>\n",
       "</table>\n",
       "</div>"
      ],
      "text/plain": [
       "             Acer        Apple         Asus         Dell           Hp  \\\n",
       "mean   759.203146  2342.013333   945.746333  1228.550094   918.148488   \n",
       "min    289.800000   857.560000   181.080000   398.520000   233.130000   \n",
       "max   3019.880000  4830.790000  3382.280000  5490.240000  4137.400000   \n",
       "\n",
       "           Lenovo          MSI  Samsung  \n",
       "mean   791.574179  1138.666889   821.32  \n",
       "min    265.640000   434.280000   543.48  \n",
       "max   4337.870000  5435.880000  1413.24  "
      ]
     },
     "execution_count": 54,
     "metadata": {},
     "output_type": "execute_result"
    }
   ],
   "source": [
    "laptops_data.drop([\"count\",\"std\",\"25%\",\"50%\",\"75%\"], axis = 0, inplace = True)\n",
    "laptops_data"
   ]
  },
  {
   "cell_type": "markdown",
   "id": "40f3b729-39df-44f7-a6db-623b7afd3a1f",
   "metadata": {},
   "source": [
    "### - Converting Rows Into Lists"
   ]
  },
  {
   "cell_type": "code",
   "execution_count": 55,
   "id": "36f8b27c-178e-417e-b103-c35ccb9cff59",
   "metadata": {},
   "outputs": [],
   "source": [
    "min = laptops_data.loc[\"min\"].tolist()\n",
    "max = laptops_data.loc[\"max\"].tolist()\n",
    "mean = laptops_data.loc[\"mean\"].tolist()"
   ]
  },
  {
   "cell_type": "markdown",
   "id": "431d7148-89b9-47ed-bb51-cfd90918b23d",
   "metadata": {},
   "source": [
    "### - Plotting Using Matplotlib"
   ]
  },
  {
   "cell_type": "code",
   "execution_count": 56,
   "id": "5fdcaf0e-4dbb-48b4-bddc-8dfbcede2b98",
   "metadata": {},
   "outputs": [
    {
     "data": {
      "image/png": "[encoded data removed]",
      "text/plain": [
       "<Figure size 1000x600 with 1 Axes>"
      ]
     },
     "metadata": {},
     "output_type": "display_data"
    }
   ],
   "source": [
    "plt.figure(figsize=(10, 6))\n",
    "width = 0.6\n",
    "plt.title(\"Minimum, Maximum And Average Prices Of Laptops By Brand\")\n",
    "plt.bar(list,max,width, color = '#50C878', label = 'Maximum Price')\n",
    "plt.bar(list,mean,width, color = '#1434A4', label = \"Average Price\")\n",
    "plt.bar(list,min,width, color = 'r', label = 'Minimum Price')\n",
    "plt.xlabel(\"Brands\")\n",
    "plt.ylabel(\"Price in $\")\n",
    "plt.ylim(top = 6000)\n",
    "plt.legend()\n",
    "plt.show()"
   ]
  }
 ],
 "metadata": {
  "kernelspec": {
   "display_name": "Python 3 (ipykernel)",
   "language": "python",
   "name": "python3"
  },
  "language_info": {
   "codemirror_mode": {
    "name": "ipython",
    "version": 3
   },
   "file_extension": ".py",
   "mimetype": "text/x-python",
   "name": "python",
   "nbconvert_exporter": "python",
   "pygments_lexer": "ipython3",
   "version": "3.12.2"
  }
 },
 "nbformat": 4,
 "nbformat_minor": 5
}
